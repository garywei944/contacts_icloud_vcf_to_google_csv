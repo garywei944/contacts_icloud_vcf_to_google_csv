{
 "cells": [
  {
   "cell_type": "code",
   "execution_count": 1,
   "metadata": {
    "collapsed": true,
    "pycharm": {
     "name": "#%%\n"
    }
   },
   "outputs": [],
   "source": [
    "from IPython.display import display\n",
    "\n",
    "\n",
    "# with open('contacts.vcf', 'r') as file:\n",
    "with open('Antonion and 231 others.vcf', 'r') as file:\n",
    "    data=file.read().split('BEGIN:VCARD\\nVERSION:3.0\\n')[1:]\n",
    "\n",
    "# display(data)"
   ]
  },
  {
   "cell_type": "code",
   "execution_count": 2,
   "outputs": [
    {
     "data": {
      "text/plain": "    Name Given Name Additional Name Family Name Yomi Name Given Name Yomi  \\\n0    NaN        NaN             NaN         NaN       NaN             NaN   \n1    NaN        NaN             NaN         NaN       NaN             NaN   \n2    NaN        NaN             NaN         NaN       NaN             NaN   \n3    NaN        NaN             NaN         NaN       NaN             NaN   \n4    NaN        NaN             NaN         NaN       NaN             NaN   \n..   ...        ...             ...         ...       ...             ...   \n226  NaN        NaN             NaN         NaN       NaN             NaN   \n227  NaN        NaN             NaN         NaN       NaN             NaN   \n228  NaN        NaN             NaN         NaN       NaN             NaN   \n229  NaN        NaN             NaN         NaN       NaN             NaN   \n230  NaN        NaN             NaN         NaN       NaN             NaN   \n\n    Additional Name Yomi Family Name Yomi Name Prefix Name Suffix  ...  \\\n0                    NaN              NaN         NaN         NaN  ...   \n1                    NaN              NaN         NaN         NaN  ...   \n2                    NaN              NaN         NaN         NaN  ...   \n3                    NaN              NaN         NaN         NaN  ...   \n4                    NaN              NaN         NaN         NaN  ...   \n..                   ...              ...         ...         ...  ...   \n226                  NaN              NaN         NaN         NaN  ...   \n227                  NaN              NaN         NaN         NaN  ...   \n228                  NaN              NaN         NaN         NaN  ...   \n229                  NaN              NaN         NaN         NaN  ...   \n230                  NaN              NaN         NaN         NaN  ...   \n\n    Organization 1 - Type Organization 1 - Name Organization 1 - Yomi Name  \\\n0                     NaN                   NaN                        NaN   \n1                     NaN                   NaN                        NaN   \n2                     NaN                   NaN                        NaN   \n3                     NaN                   NaN                        NaN   \n4                     NaN                   NaN                        NaN   \n..                    ...                   ...                        ...   \n226                   NaN                   NaN                        NaN   \n227                   NaN                   NaN                        NaN   \n228                   NaN                   NaN                        NaN   \n229                   NaN                   NaN                        NaN   \n230                   NaN                   NaN                        NaN   \n\n    Organization 1 - Title Organization 1 - Department  \\\n0                      NaN                         NaN   \n1                      NaN                         NaN   \n2                      NaN                         NaN   \n3                      NaN                         NaN   \n4                      NaN                         NaN   \n..                     ...                         ...   \n226                    NaN                         NaN   \n227                    NaN                         NaN   \n228                    NaN                         NaN   \n229                    NaN                         NaN   \n230                    NaN                         NaN   \n\n    Organization 1 - Symbol Organization 1 - Location  \\\n0                       NaN                       NaN   \n1                       NaN                       NaN   \n2                       NaN                       NaN   \n3                       NaN                       NaN   \n4                       NaN                       NaN   \n..                      ...                       ...   \n226                     NaN                       NaN   \n227                     NaN                       NaN   \n228                     NaN                       NaN   \n229                     NaN                       NaN   \n230                     NaN                       NaN   \n\n    Organization 1 - Job Description Website 1 - Type Website 1 - Value  \n0                                NaN              NaN               NaN  \n1                                NaN              NaN               NaN  \n2                                NaN              NaN               NaN  \n3                                NaN              NaN               NaN  \n4                                NaN              NaN               NaN  \n..                               ...              ...               ...  \n226                              NaN              NaN               NaN  \n227                              NaN              NaN               NaN  \n228                              NaN              NaN               NaN  \n229                              NaN              NaN               NaN  \n230                              NaN              NaN               NaN  \n\n[231 rows x 64 columns]",
      "text/html": "<div>\n<style scoped>\n    .dataframe tbody tr th:only-of-type {\n        vertical-align: middle;\n    }\n\n    .dataframe tbody tr th {\n        vertical-align: top;\n    }\n\n    .dataframe thead th {\n        text-align: right;\n    }\n</style>\n<table border=\"1\" class=\"dataframe\">\n  <thead>\n    <tr style=\"text-align: right;\">\n      <th></th>\n      <th>Name</th>\n      <th>Given Name</th>\n      <th>Additional Name</th>\n      <th>Family Name</th>\n      <th>Yomi Name</th>\n      <th>Given Name Yomi</th>\n      <th>Additional Name Yomi</th>\n      <th>Family Name Yomi</th>\n      <th>Name Prefix</th>\n      <th>Name Suffix</th>\n      <th>...</th>\n      <th>Organization 1 - Type</th>\n      <th>Organization 1 - Name</th>\n      <th>Organization 1 - Yomi Name</th>\n      <th>Organization 1 - Title</th>\n      <th>Organization 1 - Department</th>\n      <th>Organization 1 - Symbol</th>\n      <th>Organization 1 - Location</th>\n      <th>Organization 1 - Job Description</th>\n      <th>Website 1 - Type</th>\n      <th>Website 1 - Value</th>\n    </tr>\n  </thead>\n  <tbody>\n    <tr>\n      <th>0</th>\n      <td>NaN</td>\n      <td>NaN</td>\n      <td>NaN</td>\n      <td>NaN</td>\n      <td>NaN</td>\n      <td>NaN</td>\n      <td>NaN</td>\n      <td>NaN</td>\n      <td>NaN</td>\n      <td>NaN</td>\n      <td>...</td>\n      <td>NaN</td>\n      <td>NaN</td>\n      <td>NaN</td>\n      <td>NaN</td>\n      <td>NaN</td>\n      <td>NaN</td>\n      <td>NaN</td>\n      <td>NaN</td>\n      <td>NaN</td>\n      <td>NaN</td>\n    </tr>\n    <tr>\n      <th>1</th>\n      <td>NaN</td>\n      <td>NaN</td>\n      <td>NaN</td>\n      <td>NaN</td>\n      <td>NaN</td>\n      <td>NaN</td>\n      <td>NaN</td>\n      <td>NaN</td>\n      <td>NaN</td>\n      <td>NaN</td>\n      <td>...</td>\n      <td>NaN</td>\n      <td>NaN</td>\n      <td>NaN</td>\n      <td>NaN</td>\n      <td>NaN</td>\n      <td>NaN</td>\n      <td>NaN</td>\n      <td>NaN</td>\n      <td>NaN</td>\n      <td>NaN</td>\n    </tr>\n    <tr>\n      <th>2</th>\n      <td>NaN</td>\n      <td>NaN</td>\n      <td>NaN</td>\n      <td>NaN</td>\n      <td>NaN</td>\n      <td>NaN</td>\n      <td>NaN</td>\n      <td>NaN</td>\n      <td>NaN</td>\n      <td>NaN</td>\n      <td>...</td>\n      <td>NaN</td>\n      <td>NaN</td>\n      <td>NaN</td>\n      <td>NaN</td>\n      <td>NaN</td>\n      <td>NaN</td>\n      <td>NaN</td>\n      <td>NaN</td>\n      <td>NaN</td>\n      <td>NaN</td>\n    </tr>\n    <tr>\n      <th>3</th>\n      <td>NaN</td>\n      <td>NaN</td>\n      <td>NaN</td>\n      <td>NaN</td>\n      <td>NaN</td>\n      <td>NaN</td>\n      <td>NaN</td>\n      <td>NaN</td>\n      <td>NaN</td>\n      <td>NaN</td>\n      <td>...</td>\n      <td>NaN</td>\n      <td>NaN</td>\n      <td>NaN</td>\n      <td>NaN</td>\n      <td>NaN</td>\n      <td>NaN</td>\n      <td>NaN</td>\n      <td>NaN</td>\n      <td>NaN</td>\n      <td>NaN</td>\n    </tr>\n    <tr>\n      <th>4</th>\n      <td>NaN</td>\n      <td>NaN</td>\n      <td>NaN</td>\n      <td>NaN</td>\n      <td>NaN</td>\n      <td>NaN</td>\n      <td>NaN</td>\n      <td>NaN</td>\n      <td>NaN</td>\n      <td>NaN</td>\n      <td>...</td>\n      <td>NaN</td>\n      <td>NaN</td>\n      <td>NaN</td>\n      <td>NaN</td>\n      <td>NaN</td>\n      <td>NaN</td>\n      <td>NaN</td>\n      <td>NaN</td>\n      <td>NaN</td>\n      <td>NaN</td>\n    </tr>\n    <tr>\n      <th>...</th>\n      <td>...</td>\n      <td>...</td>\n      <td>...</td>\n      <td>...</td>\n      <td>...</td>\n      <td>...</td>\n      <td>...</td>\n      <td>...</td>\n      <td>...</td>\n      <td>...</td>\n      <td>...</td>\n      <td>...</td>\n      <td>...</td>\n      <td>...</td>\n      <td>...</td>\n      <td>...</td>\n      <td>...</td>\n      <td>...</td>\n      <td>...</td>\n      <td>...</td>\n      <td>...</td>\n    </tr>\n    <tr>\n      <th>226</th>\n      <td>NaN</td>\n      <td>NaN</td>\n      <td>NaN</td>\n      <td>NaN</td>\n      <td>NaN</td>\n      <td>NaN</td>\n      <td>NaN</td>\n      <td>NaN</td>\n      <td>NaN</td>\n      <td>NaN</td>\n      <td>...</td>\n      <td>NaN</td>\n      <td>NaN</td>\n      <td>NaN</td>\n      <td>NaN</td>\n      <td>NaN</td>\n      <td>NaN</td>\n      <td>NaN</td>\n      <td>NaN</td>\n      <td>NaN</td>\n      <td>NaN</td>\n    </tr>\n    <tr>\n      <th>227</th>\n      <td>NaN</td>\n      <td>NaN</td>\n      <td>NaN</td>\n      <td>NaN</td>\n      <td>NaN</td>\n      <td>NaN</td>\n      <td>NaN</td>\n      <td>NaN</td>\n      <td>NaN</td>\n      <td>NaN</td>\n      <td>...</td>\n      <td>NaN</td>\n      <td>NaN</td>\n      <td>NaN</td>\n      <td>NaN</td>\n      <td>NaN</td>\n      <td>NaN</td>\n      <td>NaN</td>\n      <td>NaN</td>\n      <td>NaN</td>\n      <td>NaN</td>\n    </tr>\n    <tr>\n      <th>228</th>\n      <td>NaN</td>\n      <td>NaN</td>\n      <td>NaN</td>\n      <td>NaN</td>\n      <td>NaN</td>\n      <td>NaN</td>\n      <td>NaN</td>\n      <td>NaN</td>\n      <td>NaN</td>\n      <td>NaN</td>\n      <td>...</td>\n      <td>NaN</td>\n      <td>NaN</td>\n      <td>NaN</td>\n      <td>NaN</td>\n      <td>NaN</td>\n      <td>NaN</td>\n      <td>NaN</td>\n      <td>NaN</td>\n      <td>NaN</td>\n      <td>NaN</td>\n    </tr>\n    <tr>\n      <th>229</th>\n      <td>NaN</td>\n      <td>NaN</td>\n      <td>NaN</td>\n      <td>NaN</td>\n      <td>NaN</td>\n      <td>NaN</td>\n      <td>NaN</td>\n      <td>NaN</td>\n      <td>NaN</td>\n      <td>NaN</td>\n      <td>...</td>\n      <td>NaN</td>\n      <td>NaN</td>\n      <td>NaN</td>\n      <td>NaN</td>\n      <td>NaN</td>\n      <td>NaN</td>\n      <td>NaN</td>\n      <td>NaN</td>\n      <td>NaN</td>\n      <td>NaN</td>\n    </tr>\n    <tr>\n      <th>230</th>\n      <td>NaN</td>\n      <td>NaN</td>\n      <td>NaN</td>\n      <td>NaN</td>\n      <td>NaN</td>\n      <td>NaN</td>\n      <td>NaN</td>\n      <td>NaN</td>\n      <td>NaN</td>\n      <td>NaN</td>\n      <td>...</td>\n      <td>NaN</td>\n      <td>NaN</td>\n      <td>NaN</td>\n      <td>NaN</td>\n      <td>NaN</td>\n      <td>NaN</td>\n      <td>NaN</td>\n      <td>NaN</td>\n      <td>NaN</td>\n      <td>NaN</td>\n    </tr>\n  </tbody>\n</table>\n<p>231 rows × 64 columns</p>\n</div>"
     },
     "metadata": {},
     "output_type": "display_data"
    }
   ],
   "source": [
    "import pandas as pd\n",
    "\n",
    "csv_example = pd.read_csv('contacts.csv')\n",
    "result = pd.DataFrame(columns=csv_example.columns, index=range(len(data)))\n",
    "display(result)"
   ],
   "metadata": {
    "collapsed": false,
    "pycharm": {
     "name": "#%%\n"
    }
   }
  },
  {
   "cell_type": "code",
   "execution_count": 3,
   "outputs": [],
   "source": [
    "import logging\n",
    "import sys\n",
    "logging.basicConfig(level=logging.DEBUG, stream=sys.stderr)"
   ],
   "metadata": {
    "collapsed": false,
    "pycharm": {
     "name": "#%%\n"
    }
   }
  },
  {
   "cell_type": "code",
   "execution_count": 4,
   "outputs": [],
   "source": [
    "import re\n",
    "\n",
    "def format_phone(_phone):\n",
    "    pre=''\n",
    "    if _phone[:3] == '+86':\n",
    "        _phone = _phone[3:]\n",
    "        pre = '+86 '\n",
    "    elif _phone[:2]=='+1':\n",
    "        _phone = _phone[2:]\n",
    "        pre='+1 '\n",
    "\n",
    "    _phone = re.sub('[^0-9]', '', _phone)\n",
    "    if _phone[:3] == '010':\n",
    "        pre+='010 '\n",
    "        _phone = _phone[3:]\n",
    "    if len(_phone)==8:\n",
    "        _phone = \"{} {}\".format(_phone[:4], _phone[-4:])\n",
    "    elif len(_phone)==10 or len(_phone)==11:\n",
    "        _phone = \"{} {} {}\".format(_phone[:3],_phone[3:-4], _phone[-4:])\n",
    "    # logging.debug(pre+_phone)\n",
    "    return pre+_phone\n",
    "\n",
    "def insert_phone(_i, _type, _value):\n",
    "    for j in range(1,6):\n",
    "        if pd.isna(result.loc[_i, 'Phone {} - Value'.format(j)]):\n",
    "            result.loc[_i, 'Phone {} - Type'.format(j)] = _type\n",
    "            result.loc[_i, 'Phone {} - Value'.format(j)] = _value\n",
    "            return\n",
    "\n",
    "    logging.warning(\"Some phone number lost! {}\".format(entries))\n",
    "    logging.debug(result.iloc[i, :])\n",
    "\n",
    "def insert_email(_i, _type, _value):\n",
    "    for j in range(1,3):\n",
    "        if pd.isna(result.loc[_i, 'E-mail {} - Value'.format(j)]):\n",
    "            result.loc[_i, 'E-mail {} - Type'.format(j)] = _type\n",
    "            result.loc[_i, 'E-mail {} - Value'.format(j)] = _value\n",
    "            return\n",
    "\n",
    "    logging.warning(\"Some Email lost! {}\".format(entries))\n",
    "    logging.debug(result.iloc[i, :])"
   ],
   "metadata": {
    "collapsed": false,
    "pycharm": {
     "name": "#%%\n"
    }
   }
  },
  {
   "cell_type": "code",
   "execution_count": 5,
   "outputs": [
    {
     "data": {
      "text/plain": "          Name Given Name Additional Name Family Name Yomi Name  \\\n0     Antonion   Antonion             NaN         NaN       NaN   \n1    Holly Aun      Holly             NaN         Aun       NaN   \n2  Timothy Aun    Timothy             NaN         Aun       NaN   \n3     Benjamin   Benjamin             NaN         NaN       NaN   \n4          毕文珍         文珍             NaN           毕       NaN   \n\n  Given Name Yomi Additional Name Yomi Family Name Yomi Name Prefix  \\\n0             NaN                  NaN              NaN         NaN   \n1             NaN                  NaN              NaN         NaN   \n2             NaN                  NaN              NaN         NaN   \n3             NaN                  NaN              NaN         NaN   \n4       Wénzhēn                  NaN              Bì         NaN   \n\n  Name Suffix  ... Organization 1 - Type Organization 1 - Name  \\\n0         NaN  ...                   NaN                   NaN   \n1         NaN  ...                   NaN                   NaN   \n2         NaN  ...                   NaN                   NaN   \n3         NaN  ...                   NaN                   NaN   \n4         NaN  ...                   NaN                   NaN   \n\n  Organization 1 - Yomi Name Organization 1 - Title  \\\n0                        NaN                    NaN   \n1                        NaN                    NaN   \n2                        NaN                    NaN   \n3                        NaN                    NaN   \n4                        NaN                    NaN   \n\n  Organization 1 - Department Organization 1 - Symbol  \\\n0                         NaN                     NaN   \n1                         NaN                     NaN   \n2                         NaN                     NaN   \n3                         NaN                     NaN   \n4                         NaN                     NaN   \n\n  Organization 1 - Location Organization 1 - Job Description Website 1 - Type  \\\n0                       NaN                              NaN              NaN   \n1                       NaN                              NaN              NaN   \n2                       NaN                              NaN              NaN   \n3                       NaN                              NaN              NaN   \n4                       NaN                              NaN              NaN   \n\n  Website 1 - Value  \n0               NaN  \n1               NaN  \n2               NaN  \n3               NaN  \n4               NaN  \n\n[5 rows x 64 columns]",
      "text/html": "<div>\n<style scoped>\n    .dataframe tbody tr th:only-of-type {\n        vertical-align: middle;\n    }\n\n    .dataframe tbody tr th {\n        vertical-align: top;\n    }\n\n    .dataframe thead th {\n        text-align: right;\n    }\n</style>\n<table border=\"1\" class=\"dataframe\">\n  <thead>\n    <tr style=\"text-align: right;\">\n      <th></th>\n      <th>Name</th>\n      <th>Given Name</th>\n      <th>Additional Name</th>\n      <th>Family Name</th>\n      <th>Yomi Name</th>\n      <th>Given Name Yomi</th>\n      <th>Additional Name Yomi</th>\n      <th>Family Name Yomi</th>\n      <th>Name Prefix</th>\n      <th>Name Suffix</th>\n      <th>...</th>\n      <th>Organization 1 - Type</th>\n      <th>Organization 1 - Name</th>\n      <th>Organization 1 - Yomi Name</th>\n      <th>Organization 1 - Title</th>\n      <th>Organization 1 - Department</th>\n      <th>Organization 1 - Symbol</th>\n      <th>Organization 1 - Location</th>\n      <th>Organization 1 - Job Description</th>\n      <th>Website 1 - Type</th>\n      <th>Website 1 - Value</th>\n    </tr>\n  </thead>\n  <tbody>\n    <tr>\n      <th>0</th>\n      <td>Antonion</td>\n      <td>Antonion</td>\n      <td>NaN</td>\n      <td>NaN</td>\n      <td>NaN</td>\n      <td>NaN</td>\n      <td>NaN</td>\n      <td>NaN</td>\n      <td>NaN</td>\n      <td>NaN</td>\n      <td>...</td>\n      <td>NaN</td>\n      <td>NaN</td>\n      <td>NaN</td>\n      <td>NaN</td>\n      <td>NaN</td>\n      <td>NaN</td>\n      <td>NaN</td>\n      <td>NaN</td>\n      <td>NaN</td>\n      <td>NaN</td>\n    </tr>\n    <tr>\n      <th>1</th>\n      <td>Holly Aun</td>\n      <td>Holly</td>\n      <td>NaN</td>\n      <td>Aun</td>\n      <td>NaN</td>\n      <td>NaN</td>\n      <td>NaN</td>\n      <td>NaN</td>\n      <td>NaN</td>\n      <td>NaN</td>\n      <td>...</td>\n      <td>NaN</td>\n      <td>NaN</td>\n      <td>NaN</td>\n      <td>NaN</td>\n      <td>NaN</td>\n      <td>NaN</td>\n      <td>NaN</td>\n      <td>NaN</td>\n      <td>NaN</td>\n      <td>NaN</td>\n    </tr>\n    <tr>\n      <th>2</th>\n      <td>Timothy Aun</td>\n      <td>Timothy</td>\n      <td>NaN</td>\n      <td>Aun</td>\n      <td>NaN</td>\n      <td>NaN</td>\n      <td>NaN</td>\n      <td>NaN</td>\n      <td>NaN</td>\n      <td>NaN</td>\n      <td>...</td>\n      <td>NaN</td>\n      <td>NaN</td>\n      <td>NaN</td>\n      <td>NaN</td>\n      <td>NaN</td>\n      <td>NaN</td>\n      <td>NaN</td>\n      <td>NaN</td>\n      <td>NaN</td>\n      <td>NaN</td>\n    </tr>\n    <tr>\n      <th>3</th>\n      <td>Benjamin</td>\n      <td>Benjamin</td>\n      <td>NaN</td>\n      <td>NaN</td>\n      <td>NaN</td>\n      <td>NaN</td>\n      <td>NaN</td>\n      <td>NaN</td>\n      <td>NaN</td>\n      <td>NaN</td>\n      <td>...</td>\n      <td>NaN</td>\n      <td>NaN</td>\n      <td>NaN</td>\n      <td>NaN</td>\n      <td>NaN</td>\n      <td>NaN</td>\n      <td>NaN</td>\n      <td>NaN</td>\n      <td>NaN</td>\n      <td>NaN</td>\n    </tr>\n    <tr>\n      <th>4</th>\n      <td>毕文珍</td>\n      <td>文珍</td>\n      <td>NaN</td>\n      <td>毕</td>\n      <td>NaN</td>\n      <td>Wénzhēn</td>\n      <td>NaN</td>\n      <td>Bì</td>\n      <td>NaN</td>\n      <td>NaN</td>\n      <td>...</td>\n      <td>NaN</td>\n      <td>NaN</td>\n      <td>NaN</td>\n      <td>NaN</td>\n      <td>NaN</td>\n      <td>NaN</td>\n      <td>NaN</td>\n      <td>NaN</td>\n      <td>NaN</td>\n      <td>NaN</td>\n    </tr>\n  </tbody>\n</table>\n<p>5 rows × 64 columns</p>\n</div>"
     },
     "metadata": {},
     "output_type": "display_data"
    }
   ],
   "source": [
    "for i, record in enumerate(data):\n",
    "    lines=record.split('\\n')[:-2]\n",
    "    for attributes in lines:\n",
    "        entries = re.split('[;:]', attributes.replace(u'\\xa0', ' '))\n",
    "        key = entries[0]\n",
    "        # logging.debug(entries)\n",
    "        if key == 'N':\n",
    "            if entries[1] != '':\n",
    "                result.loc[i, 'Family Name'] = entries[1]\n",
    "            if entries[2] != '':\n",
    "                result.loc[i, 'Given Name'] = entries[2]\n",
    "            if entries[3] != '':\n",
    "                result.loc[i, 'Additional Name'] = entries[3]\n",
    "                # result.loc[i, 'Nickname'] = entries[3]\n",
    "        elif key == 'FN':\n",
    "            result.loc[i, 'Name'] = entries[1]\n",
    "        elif key == 'X-PHONETIC-FIRST-NAME':\n",
    "            result.loc[i, 'Given Name Yomi'] = entries[1]\n",
    "        elif key == 'X-PHONETIC-LAST-NAME':\n",
    "            result.loc[i, 'Family Name Yomi'] = entries[1]\n",
    "        elif key == 'NICKNAME':\n",
    "            result.loc[i, 'Nickname'] = entries[1]\n",
    "        elif 'TEL' in key:\n",
    "            phone = format_phone(entries[-1])\n",
    "            if 'type=WORK' in entries:\n",
    "                _type='Work'\n",
    "            elif 'type=HOME' in entries:\n",
    "                _type='Home'\n",
    "            else:\n",
    "                _type='Other'\n",
    "            insert_phone(i, _type, phone)\n",
    "        elif key == 'BDAY':\n",
    "            result.loc[i, 'Birthday'] = entries[-1].replace('1604','-')\n",
    "        elif key=='ORG':\n",
    "            result.loc[i, 'Organization 1 - Name'] = entries[1]\n",
    "            pass\n",
    "        elif key=='TITLE':\n",
    "            result.loc[i, 'Organization 1 - Title'] = entries[1]\n",
    "            pass\n",
    "        elif key=='NOTE':\n",
    "            result.loc[i, 'Notes'] = entries[-1]\n",
    "        elif 'EMAIL' in key:\n",
    "            email=entries[-1]\n",
    "            if 'type=WORK' in entries:\n",
    "                _type='Work'\n",
    "            elif 'type=HOME' in entries:\n",
    "                _type='Home'\n",
    "            else:\n",
    "                _type='Other'\n",
    "            insert_email(i, _type, email)\n",
    "            pass\n",
    "        elif 'ADR' in key:\n",
    "            pass\n",
    "        elif key=='REV':\n",
    "            pass\n",
    "        elif key=='PRODID':\n",
    "            pass\n",
    "        elif key=='X-SOCIALPROFILE':\n",
    "            pass\n",
    "        elif 'Label' in key:\n",
    "            pass\n",
    "        elif len(entries) == 1:\n",
    "            pass\n",
    "        else:\n",
    "            # logging.debug(entries)\n",
    "            # logging.debug(entries)\n",
    "            pass\n",
    "\n",
    "\n",
    "\n",
    "display(result.head())"
   ],
   "metadata": {
    "collapsed": false,
    "pycharm": {
     "name": "#%%\n"
    }
   }
  },
  {
   "cell_type": "code",
   "execution_count": 6,
   "outputs": [],
   "source": [
    "result.to_csv('converted_contact.csv', index=None)"
   ],
   "metadata": {
    "collapsed": false,
    "pycharm": {
     "name": "#%%\n"
    }
   }
  },
  {
   "cell_type": "code",
   "execution_count": null,
   "outputs": [],
   "source": [],
   "metadata": {
    "collapsed": false,
    "pycharm": {
     "name": "#%%\n"
    }
   }
  }
 ],
 "metadata": {
  "kernelspec": {
   "display_name": "Python 3",
   "language": "python",
   "name": "python3"
  },
  "language_info": {
   "codemirror_mode": {
    "name": "ipython",
    "version": 2
   },
   "file_extension": ".py",
   "mimetype": "text/x-python",
   "name": "python",
   "nbconvert_exporter": "python",
   "pygments_lexer": "ipython2",
   "version": "2.7.6"
  }
 },
 "nbformat": 4,
 "nbformat_minor": 0
}